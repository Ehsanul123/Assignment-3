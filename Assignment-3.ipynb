{
 "cells": [
  {
   "cell_type": "code",
   "execution_count": null,
   "id": "2b2c6001",
   "metadata": {},
   "outputs": [],
   "source": [
    "#1:\n",
    "The main use of function in programming is reuse of code whenever we required,we just call function \n",
    "instead of writing of entire code.So that it will reduce the code duplicacy in program and also to save the time."
   ]
  },
  {
   "cell_type": "code",
   "execution_count": null,
   "id": "b3c301f5",
   "metadata": {},
   "outputs": [],
   "source": [
    "#2:\n",
    "The code of function run when it is called not when the function is defined."
   ]
  },
  {
   "cell_type": "code",
   "execution_count": null,
   "id": "899bc56d",
   "metadata": {},
   "outputs": [],
   "source": [
    "#3:\n",
    "def sum() :- By using def we can create function."
   ]
  },
  {
   "cell_type": "code",
   "execution_count": null,
   "id": "e6e252d9",
   "metadata": {},
   "outputs": [],
   "source": [
    "#4:\n",
    "function is nothing but when we use large program again and again in progarm ,that time it will defined like def fun_name(),\n",
    "function call is all about when we use the fun_name() in program then it will be called, and it will return the function's value"
   ]
  },
  {
   "cell_type": "code",
   "execution_count": null,
   "id": "e0860f27",
   "metadata": {},
   "outputs": [],
   "source": [
    "#5:\n",
    "There is one global and one local scope in python program."
   ]
  },
  {
   "cell_type": "code",
   "execution_count": null,
   "id": "567050ca",
   "metadata": {},
   "outputs": [],
   "source": [
    "#6:\n",
    "When a function returns, the scope of local variable is destroyed."
   ]
  },
  {
   "cell_type": "code",
   "execution_count": null,
   "id": "9874733e",
   "metadata": {},
   "outputs": [],
   "source": [
    "#7:\n",
    "A return value is used to end the execution of the function call and returns the result\n",
    "a return value can be used as part of an expression."
   ]
  },
  {
   "cell_type": "code",
   "execution_count": null,
   "id": "ac5b3022",
   "metadata": {},
   "outputs": [],
   "source": [
    "#8:\n",
    "If there is no return statement for a function, its return value is None."
   ]
  },
  {
   "cell_type": "code",
   "execution_count": null,
   "id": "ebdf5784",
   "metadata": {},
   "outputs": [],
   "source": [
    "#9:\n",
    "Global variables can be used by everyone, both inside of functions and outside.\n",
    "we can use global variable like this statement.\n",
    "x = \"awesome\"\n",
    "\n",
    "def myfunc():\n",
    "  print(\"Python is \" + x)\n"
   ]
  },
  {
   "cell_type": "code",
   "execution_count": null,
   "id": "771a1704",
   "metadata": {},
   "outputs": [],
   "source": [
    "#10:\n",
    "The data type of None is NoneType."
   ]
  },
  {
   "cell_type": "code",
   "execution_count": null,
   "id": "6b60857d",
   "metadata": {},
   "outputs": [],
   "source": [
    "#11:\n",
    "import areallyourpetsnamederic  :  This import statement imports a module named areallyourpetsnamederic."
   ]
  },
  {
   "cell_type": "code",
   "execution_count": null,
   "id": "9398df6a",
   "metadata": {},
   "outputs": [],
   "source": [
    "#12:\n",
    "by using spam.bacon() , we can call this.\n"
   ]
  },
  {
   "cell_type": "code",
   "execution_count": null,
   "id": "e75a0a03",
   "metadata": {},
   "outputs": [],
   "source": [
    "#13:\n",
    "By using Exception handling(Try and Except block) , we can save a programme from crashing if it encounters an error."
   ]
  },
  {
   "cell_type": "code",
   "execution_count": null,
   "id": "3ed2d9c4",
   "metadata": {},
   "outputs": [],
   "source": [
    "try:\n",
    "    <do Statement>\n",
    "except Exception:\n",
    "    <handle the error>\n",
    "    \n",
    "Try    :  It helps to test the code. If the code inside the try block is error free then it is executed. \n",
    "          Otherwise the error gets caught and control goes to the except block.\n",
    "Except :  Except displays the error message."
   ]
  },
  {
   "cell_type": "code",
   "execution_count": null,
   "id": "0f69021c",
   "metadata": {},
   "outputs": [],
   "source": []
  }
 ],
 "metadata": {
  "kernelspec": {
   "display_name": "Python 3 (ipykernel)",
   "language": "python",
   "name": "python3"
  },
  "language_info": {
   "codemirror_mode": {
    "name": "ipython",
    "version": 3
   },
   "file_extension": ".py",
   "mimetype": "text/x-python",
   "name": "python",
   "nbconvert_exporter": "python",
   "pygments_lexer": "ipython3",
   "version": "3.9.7"
  }
 },
 "nbformat": 4,
 "nbformat_minor": 5
}
